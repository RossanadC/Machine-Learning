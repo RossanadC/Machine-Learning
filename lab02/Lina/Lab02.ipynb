{
  "nbformat": 4,
  "nbformat_minor": 0,
  "metadata": {
    "colab": {
      "provenance": [],
      "gpuType": "T4",
      "authorship_tag": "ABX9TyMbEf/x63fXENH9H8Fr53tt",
      "include_colab_link": true
    },
    "kernelspec": {
      "name": "python3",
      "display_name": "Python 3"
    },
    "language_info": {
      "name": "python"
    },
    "accelerator": "GPU"
  },
  "cells": [
    {
      "cell_type": "markdown",
      "metadata": {
        "id": "view-in-github",
        "colab_type": "text"
      },
      "source": [
        "<a href=\"https://colab.research.google.com/github/RossanadC/Machine-Learning/blob/Lab2/Lab02.ipynb\" target=\"_parent\"><img src=\"https://colab.research.google.com/assets/colab-badge.svg\" alt=\"Open In Colab\"/></a>"
      ]
    },
    {
      "cell_type": "markdown",
      "source": [
        "**Import packages**"
      ],
      "metadata": {
        "id": "5D32ttDz7AFL"
      }
    },
    {
      "cell_type": "code",
      "execution_count": null,
      "metadata": {
        "id": "OU9e9QQR6HP7"
      },
      "outputs": [],
      "source": [
        "import torch\n",
        "import torch.nn as nn\n",
        "import torch.nn.functional as F\n",
        "import torch.optim as optim\n",
        "from torchvision import datasets, transforms\n",
        "from torch.utils.data import DataLoader\n",
        "# numpy and pytorch are already installed\n",
        "import numpy as np"
      ]
    },
    {
      "cell_type": "markdown",
      "source": [
        "**Define a Neural Network**"
      ],
      "metadata": {
        "id": "lLRbvJiY69Mz"
      }
    },
    {
      "cell_type": "code",
      "source": [
        "# define neural network\n",
        "class NeuralNetwork(nn.Module):\n",
        "    def __init__(self, num_classes):\n",
        "        super().__init__()\n",
        "        self.flatten = nn.Flatten()\n",
        "\n",
        "        self.lin1 = nn.Linear(28*28, 512)\n",
        "        self.act1 = nn.ReLU()\n",
        "\n",
        "        self.lin2 = nn.Linear(512, 512)\n",
        "        self.act2 = nn.ReLU()\n",
        "\n",
        "        self.output_layer = nn.Linear(512, num_classes)\n",
        "\n",
        "    def forward(self, x):\n",
        "        x = self.flatten(x)  # (batch_size, 28, 28) => (batch_size, 28*28)\n",
        "\n",
        "        # first layer (input is x, output is x1)\n",
        "        x1 = self.lin1(x)\n",
        "        x1 = self.act1(x1)\n",
        "\n",
        "        # second layer (input is x1, output is x2)\n",
        "        x2 = self.lin2(x1)\n",
        "        x2 = self.act2(x2)\n",
        "\n",
        "        # third/output layer (input is x2, output is logits)\n",
        "        logits = self.output_layer(x2)\n",
        "        return logits\n"
      ],
      "metadata": {
        "id": "qixNWfdQ7_iC"
      },
      "execution_count": null,
      "outputs": []
    },
    {
      "cell_type": "markdown",
      "source": [
        "**Dataset**"
      ],
      "metadata": {
        "id": "xZbpFFim6whO"
      }
    },
    {
      "cell_type": "code",
      "source": [
        "from torchvision import datasets, transforms\n",
        "\n",
        "# preprocessing to apply on each data sample:\n",
        "# 1) convert to tensor\n",
        "# 2) normalize images\n",
        "transform=transforms.Compose([\n",
        "        transforms.ToTensor(),\n",
        "        transforms.Normalize(mean=(0.1307,), std=(0.3081,))  # Normalize a tensor image with mean and standard deviation.\n",
        "        ])\n",
        "\n",
        "# Download train data from open datasets.\n",
        "train_data= datasets.FashionMNIST(root='data', train=True, download=True, transform=transform)\n",
        "\n",
        "# Download test data from open datsets.\n",
        "test_data=datasets.FashionMNIST(root='data', train=False, download=True, transform=transform)\n"
      ],
      "metadata": {
        "id": "S29gzGC29pkH"
      },
      "execution_count": null,
      "outputs": []
    },
    {
      "cell_type": "markdown",
      "source": [
        "**Validation set**"
      ],
      "metadata": {
        "id": "_Uwt7-NI_PrL"
      }
    },
    {
      "cell_type": "code",
      "source": [
        "train_data, validation_data=torch.utils.data.random_split(train_data, [0.9,0.1])"
      ],
      "metadata": {
        "id": "68529ZEv_V34"
      },
      "execution_count": null,
      "outputs": []
    },
    {
      "cell_type": "markdown",
      "source": [
        "**Plot one sample from dataset**"
      ],
      "metadata": {
        "id": "MkA0u4RRQXaG"
      }
    },
    {
      "cell_type": "code",
      "source": [
        "image, label = train_data[100]"
      ],
      "metadata": {
        "id": "lf0wNTnLQcPL"
      },
      "execution_count": null,
      "outputs": []
    },
    {
      "cell_type": "code",
      "source": [
        "image.shape"
      ],
      "metadata": {
        "colab": {
          "base_uri": "https://localhost:8080/"
        },
        "id": "TPRbXbORQ4Qy",
        "outputId": "026bce07-7a5b-42b2-8ff2-5eca7f4ee9d1"
      },
      "execution_count": null,
      "outputs": [
        {
          "output_type": "execute_result",
          "data": {
            "text/plain": [
              "torch.Size([1, 28, 28])"
            ]
          },
          "metadata": {},
          "execution_count": 20
        }
      ]
    },
    {
      "cell_type": "code",
      "source": [
        "label"
      ],
      "metadata": {
        "colab": {
          "base_uri": "https://localhost:8080/"
        },
        "id": "ChIRiRwYQ578",
        "outputId": "64906551-bffc-4669-c0d7-1ffe1bfd524e"
      },
      "execution_count": null,
      "outputs": [
        {
          "output_type": "execute_result",
          "data": {
            "text/plain": [
              "6"
            ]
          },
          "metadata": {},
          "execution_count": 21
        }
      ]
    },
    {
      "cell_type": "code",
      "source": [
        "# dataset returns one sample at a time\n",
        "# In our case one sample corresponds to a Tuple: (Image, Target Label)\n",
        "# Image is a tensor with shape [1, 28, 28]\n",
        "# Label is an integer representing the class of the image\n",
        "\n",
        "print(type(train_data[100]))\n",
        "print(len(train_data[100]))\n",
        "\n",
        "image, label = train_data[100]\n",
        "print(\"image: \", image.shape, type(image))\n",
        "print(\"label: \", label, type(label))"
      ],
      "metadata": {
        "colab": {
          "base_uri": "https://localhost:8080/"
        },
        "id": "-9k9t0QUQnlU",
        "outputId": "8e96f84b-35fb-4019-fd34-1798b21ff457"
      },
      "execution_count": null,
      "outputs": [
        {
          "output_type": "stream",
          "name": "stdout",
          "text": [
            "<class 'tuple'>\n",
            "2\n",
            "image:  torch.Size([1, 28, 28]) <class 'torch.Tensor'>\n",
            "label:  6 <class 'int'>\n"
          ]
        }
      ]
    },
    {
      "cell_type": "code",
      "source": [
        "image.shape"
      ],
      "metadata": {
        "colab": {
          "base_uri": "https://localhost:8080/"
        },
        "id": "2vFIT-ciQoXL",
        "outputId": "c0d5f34b-3fb0-45f7-93d4-f9c094d7a59b"
      },
      "execution_count": null,
      "outputs": [
        {
          "output_type": "execute_result",
          "data": {
            "text/plain": [
              "torch.Size([1, 28, 28])"
            ]
          },
          "metadata": {},
          "execution_count": 23
        }
      ]
    },
    {
      "cell_type": "code",
      "source": [
        "image[0].shape"
      ],
      "metadata": {
        "colab": {
          "base_uri": "https://localhost:8080/"
        },
        "id": "H6wFfeizQ-Tc",
        "outputId": "0c8b2fe2-1539-4575-8ed8-78f3e2fed087"
      },
      "execution_count": null,
      "outputs": [
        {
          "output_type": "execute_result",
          "data": {
            "text/plain": [
              "torch.Size([28, 28])"
            ]
          },
          "metadata": {},
          "execution_count": 24
        }
      ]
    },
    {
      "cell_type": "code",
      "source": [
        "image=image.view(28,28)\n",
        "image.shape"
      ],
      "metadata": {
        "colab": {
          "base_uri": "https://localhost:8080/"
        },
        "id": "jI0ODtgbQ_7F",
        "outputId": "7a4b9f47-4234-4209-bcfc-25f710f8d702"
      },
      "execution_count": null,
      "outputs": [
        {
          "output_type": "execute_result",
          "data": {
            "text/plain": [
              "torch.Size([28, 28])"
            ]
          },
          "metadata": {},
          "execution_count": 25
        }
      ]
    },
    {
      "cell_type": "code",
      "source": [
        "# plot one sample normalized\n",
        "\n",
        "import matplotlib.pyplot as plt\n",
        "plt.imshow(image.numpy())  # numpy array 28x28"
      ],
      "metadata": {
        "colab": {
          "base_uri": "https://localhost:8080/",
          "height": 447
        },
        "id": "Mm89lCCPRCfG",
        "outputId": "e8bdb641-5c74-4133-8ab6-55087d7764f0"
      },
      "execution_count": null,
      "outputs": [
        {
          "output_type": "execute_result",
          "data": {
            "text/plain": [
              "<matplotlib.image.AxesImage at 0x7e7ab558ff80>"
            ]
          },
          "metadata": {},
          "execution_count": 26
        },
        {
          "output_type": "display_data",
          "data": {
            "text/plain": [
              "<Figure size 640x480 with 1 Axes>"
            ],
            "image/png": "[encoded data removed]"
          },
          "metadata": {}
        }
      ]
    },
    {
      "cell_type": "markdown",
      "source": [
        "**DataLoader**"
      ],
      "metadata": {
        "id": "inwmWabfK30F"
      }
    },
    {
      "cell_type": "code",
      "source": [
        "batch_size = 128  # we define here the batch size: number of samples processed before the model is updated\n",
        "train_loader = torch.utils.data.DataLoader(train_data, batch_size=batch_size, shuffle=True) #, drop_last=True)\n",
        "test_loader = torch.utils.data.DataLoader(train_data, batch_size=batch_size, shuffle=False) # , drop_last=False)\n",
        "print(f\"batch size: {batch_size}\")"
      ],
      "metadata": {
        "colab": {
          "base_uri": "https://localhost:8080/"
        },
        "id": "HoxKbz53NEhR",
        "outputId": "9805f117-e30c-4d4c-c4d7-21763b1a452e"
      },
      "execution_count": null,
      "outputs": [
        {
          "output_type": "stream",
          "name": "stdout",
          "text": [
            "batch size: 128\n"
          ]
        }
      ]
    },
    {
      "cell_type": "markdown",
      "source": [
        "**Traning**"
      ],
      "metadata": {
        "id": "pim2UMXbO3Q5"
      }
    },
    {
      "cell_type": "code",
      "source": [
        "# function for training\n",
        "def train(model, device, train_loader, optimizer, epoch):\n",
        "    model.train()  # model to train mode\n",
        "\n",
        "    # ITERATE DATALOADER: train_loader\n",
        "    for batch_idx, (data, target) in enumerate(train_loader):\n",
        "        #  SINGLE OPTIMIZATION STEP IS PERFORMED ON A BATCH!\n",
        "        data, target = data.to(device), target.to(device)\n",
        "\n",
        "        optimizer.zero_grad()\n",
        "\n",
        "        output = model(data)\n",
        "\n",
        "        loss = F.cross_entropy(output, target)\n",
        "\n",
        "        loss.backward()\n",
        "\n",
        "        optimizer.step()\n",
        "\n",
        "        if batch_idx % 50 == 0:\n",
        "            print('Train Epoch: {} [{}/{} ({:.0f}%)]\\tLoss: {:.6f}'.format(\n",
        "                epoch, batch_idx * len(data), len(train_loader.dataset),\n",
        "                100. * batch_idx / len(train_loader), loss.item()))\n",
        "\n",
        "\n",
        "# test\n",
        "# function for evaluation\n",
        "def test(model, device, test_loader):\n",
        "    model.eval()  # model to eval\n",
        "    test_loss = 0\n",
        "    correct = 0\n",
        "\n",
        "    # ITERATE DATALOADER: test_loader\n",
        "    for data, target in test_loader:\n",
        "        batch_size = data.shape[0]\n",
        "        data, target = data.to(device), target.to(device)\n",
        "        output = model(data)\n",
        "        test_loss += F.cross_entropy(output, target, reduction='sum').item()  # sum up batch loss\n",
        "\n",
        "        pred = output.argmax(dim=1, keepdim=True)  # get the index of the max log-probability\n",
        "\n",
        "        # sanity check\n",
        "        pred = pred.view(batch_size)  # [bs,]\n",
        "        target = target.view(batch_size)  # [bs,]\n",
        "\n",
        "        # compute prediction ok\n",
        "        batch_pred_ok = pred.eq(target).sum().item()\n",
        "        correct += batch_pred_ok\n",
        "\n",
        "    test_loss /= len(test_loader.dataset)\n",
        "    num_samples = len(test_loader.dataset)\n",
        "    test_accuracy = correct / num_samples\n",
        "    print('\\nTest set: Average loss: {:.4f}, Accuracy: {}/{} ({:.0f}%)\\n'.format(\n",
        "        test_loss, correct, len(test_loader.dataset),\n",
        "        100. * correct / len(test_loader.dataset)))\n"
      ],
      "metadata": {
        "id": "e2bXYHtrO7OR"
      },
      "execution_count": null,
      "outputs": []
    },
    {
      "cell_type": "code",
      "source": [
        "device = torch.device('cuda')  # use gpu, is equivalent to .cuda()\n",
        "\n",
        "# training hyperparameters\n",
        "lr = 0.01\n",
        "num_epochs = 30\n",
        "print(f\"lr: {lr}\")\n",
        "print(f\"batch size: {batch_size}\")\n",
        "print(f\"Num. optimization steps per-epoch: {int(len(train_data)/batch_size)}\")\n",
        "\n",
        "#########\n",
        "# MODEL #\n",
        "#########\n",
        "model = NeuralNetwork(num_classes=10)\n",
        "model = model.to(device)\n",
        "\n",
        "#############\n",
        "# OPTIMIZER #\n",
        "#############\n",
        "parameters_to_optimize = model.parameters()\n",
        "optimizer = optim.SGD(parameters_to_optimize, lr=lr, momentum=0.9)"
      ],
      "metadata": {
        "colab": {
          "base_uri": "https://localhost:8080/"
        },
        "id": "MN35X9pcQb0J",
        "outputId": "1bd24750-7af3-4b59-e628-67526381c52e"
      },
      "execution_count": null,
      "outputs": [
        {
          "output_type": "stream",
          "name": "stdout",
          "text": [
            "lr: 0.01\n",
            "batch size: 128\n",
            "Num. optimization steps per-epoch: 421\n"
          ]
        }
      ]
    },
    {
      "cell_type": "code",
      "source": [
        "%%time\n",
        "for epoch in range(1, num_epochs + 1):\n",
        "  train(model, device, train_loader, optimizer, epoch)\n",
        "  test(model, device, test_loader)"
      ],
      "metadata": {
        "colab": {
          "base_uri": "https://localhost:8080/"
        },
        "id": "feti3jQBQ54o",
        "outputId": "53ada20c-2880-4712-eb4b-8a29bf94a421"
      },
      "execution_count": null,
      "outputs": [
        {
          "output_type": "stream",
          "name": "stdout",
          "text": [
            "Train Epoch: 1 [0/54000 (0%)]\tLoss: 2.330357\n",
            "Train Epoch: 1 [6400/54000 (12%)]\tLoss: 0.694588\n",
            "Train Epoch: 1 [12800/54000 (24%)]\tLoss: 0.589771\n",
            "Train Epoch: 1 [19200/54000 (36%)]\tLoss: 0.550117\n",
            "Train Epoch: 1 [25600/54000 (47%)]\tLoss: 0.412640\n",
            "Train Epoch: 1 [32000/54000 (59%)]\tLoss: 0.571668\n",
            "Train Epoch: 1 [38400/54000 (71%)]\tLoss: 0.376872\n",
            "Train Epoch: 1 [44800/54000 (83%)]\tLoss: 0.501848\n",
            "Train Epoch: 1 [51200/54000 (95%)]\tLoss: 0.535670\n",
            "\n",
            "Test set: Average loss: 0.4202, Accuracy: 45817/54000 (85%)\n",
            "\n",
            "Train Epoch: 2 [0/54000 (0%)]\tLoss: 0.428738\n",
            "Train Epoch: 2 [6400/54000 (12%)]\tLoss: 0.373340\n",
            "Train Epoch: 2 [12800/54000 (24%)]\tLoss: 0.308762\n",
            "Train Epoch: 2 [19200/54000 (36%)]\tLoss: 0.363187\n",
            "Train Epoch: 2 [25600/54000 (47%)]\tLoss: 0.398268\n",
            "Train Epoch: 2 [32000/54000 (59%)]\tLoss: 0.322624\n",
            "Train Epoch: 2 [38400/54000 (71%)]\tLoss: 0.332073\n",
            "Train Epoch: 2 [44800/54000 (83%)]\tLoss: 0.342679\n",
            "Train Epoch: 2 [51200/54000 (95%)]\tLoss: 0.347028\n",
            "\n",
            "Test set: Average loss: 0.3324, Accuracy: 47470/54000 (88%)\n",
            "\n",
            "Train Epoch: 3 [0/54000 (0%)]\tLoss: 0.250175\n",
            "Train Epoch: 3 [6400/54000 (12%)]\tLoss: 0.247581\n",
            "Train Epoch: 3 [12800/54000 (24%)]\tLoss: 0.407063\n",
            "Train Epoch: 3 [19200/54000 (36%)]\tLoss: 0.338158\n",
            "Train Epoch: 3 [25600/54000 (47%)]\tLoss: 0.382137\n",
            "Train Epoch: 3 [32000/54000 (59%)]\tLoss: 0.312941\n",
            "Train Epoch: 3 [38400/54000 (71%)]\tLoss: 0.373453\n",
            "Train Epoch: 3 [44800/54000 (83%)]\tLoss: 0.275868\n",
            "Train Epoch: 3 [51200/54000 (95%)]\tLoss: 0.222697\n",
            "\n",
            "Test set: Average loss: 0.3400, Accuracy: 47242/54000 (87%)\n",
            "\n",
            "Train Epoch: 4 [0/54000 (0%)]\tLoss: 0.375475\n",
            "Train Epoch: 4 [6400/54000 (12%)]\tLoss: 0.311662\n",
            "Train Epoch: 4 [12800/54000 (24%)]\tLoss: 0.255619\n",
            "Train Epoch: 4 [19200/54000 (36%)]\tLoss: 0.359624\n",
            "Train Epoch: 4 [25600/54000 (47%)]\tLoss: 0.254209\n",
            "Train Epoch: 4 [32000/54000 (59%)]\tLoss: 0.275166\n",
            "Train Epoch: 4 [38400/54000 (71%)]\tLoss: 0.389227\n",
            "Train Epoch: 4 [44800/54000 (83%)]\tLoss: 0.352562\n",
            "Train Epoch: 4 [51200/54000 (95%)]\tLoss: 0.187447\n",
            "\n",
            "Test set: Average loss: 0.2843, Accuracy: 48388/54000 (90%)\n",
            "\n",
            "Train Epoch: 5 [0/54000 (0%)]\tLoss: 0.230260\n",
            "Train Epoch: 5 [6400/54000 (12%)]\tLoss: 0.258764\n",
            "Train Epoch: 5 [12800/54000 (24%)]\tLoss: 0.269853\n",
            "Train Epoch: 5 [19200/54000 (36%)]\tLoss: 0.204718\n",
            "Train Epoch: 5 [25600/54000 (47%)]\tLoss: 0.351576\n",
            "Train Epoch: 5 [32000/54000 (59%)]\tLoss: 0.332455\n",
            "Train Epoch: 5 [38400/54000 (71%)]\tLoss: 0.191397\n",
            "Train Epoch: 5 [44800/54000 (83%)]\tLoss: 0.243778\n",
            "Train Epoch: 5 [51200/54000 (95%)]\tLoss: 0.401258\n",
            "\n",
            "Test set: Average loss: 0.2734, Accuracy: 48543/54000 (90%)\n",
            "\n",
            "Train Epoch: 6 [0/54000 (0%)]\tLoss: 0.244466\n",
            "Train Epoch: 6 [6400/54000 (12%)]\tLoss: 0.246451\n",
            "Train Epoch: 6 [12800/54000 (24%)]\tLoss: 0.295902\n",
            "Train Epoch: 6 [19200/54000 (36%)]\tLoss: 0.232541\n",
            "Train Epoch: 6 [25600/54000 (47%)]\tLoss: 0.194088\n",
            "Train Epoch: 6 [32000/54000 (59%)]\tLoss: 0.284251\n",
            "Train Epoch: 6 [38400/54000 (71%)]\tLoss: 0.163264\n",
            "Train Epoch: 6 [44800/54000 (83%)]\tLoss: 0.188174\n",
            "Train Epoch: 6 [51200/54000 (95%)]\tLoss: 0.274571\n",
            "\n",
            "Test set: Average loss: 0.2601, Accuracy: 48812/54000 (90%)\n",
            "\n",
            "Train Epoch: 7 [0/54000 (0%)]\tLoss: 0.219812\n",
            "Train Epoch: 7 [6400/54000 (12%)]\tLoss: 0.318345\n",
            "Train Epoch: 7 [12800/54000 (24%)]\tLoss: 0.277883\n",
            "Train Epoch: 7 [19200/54000 (36%)]\tLoss: 0.363377\n",
            "Train Epoch: 7 [25600/54000 (47%)]\tLoss: 0.251143\n",
            "Train Epoch: 7 [32000/54000 (59%)]\tLoss: 0.419510\n",
            "Train Epoch: 7 [38400/54000 (71%)]\tLoss: 0.245897\n",
            "Train Epoch: 7 [44800/54000 (83%)]\tLoss: 0.301104\n",
            "Train Epoch: 7 [51200/54000 (95%)]\tLoss: 0.231572\n",
            "\n",
            "Test set: Average loss: 0.2764, Accuracy: 48351/54000 (90%)\n",
            "\n",
            "Train Epoch: 8 [0/54000 (0%)]\tLoss: 0.350596\n",
            "Train Epoch: 8 [6400/54000 (12%)]\tLoss: 0.270795\n",
            "Train Epoch: 8 [12800/54000 (24%)]\tLoss: 0.271564\n",
            "Train Epoch: 8 [19200/54000 (36%)]\tLoss: 0.274400\n",
            "Train Epoch: 8 [25600/54000 (47%)]\tLoss: 0.207702\n",
            "Train Epoch: 8 [32000/54000 (59%)]\tLoss: 0.289914\n",
            "Train Epoch: 8 [38400/54000 (71%)]\tLoss: 0.269151\n",
            "Train Epoch: 8 [44800/54000 (83%)]\tLoss: 0.317438\n",
            "Train Epoch: 8 [51200/54000 (95%)]\tLoss: 0.344515\n",
            "\n",
            "Test set: Average loss: 0.2254, Accuracy: 49430/54000 (92%)\n",
            "\n",
            "Train Epoch: 9 [0/54000 (0%)]\tLoss: 0.177992\n",
            "Train Epoch: 9 [6400/54000 (12%)]\tLoss: 0.182887\n",
            "Train Epoch: 9 [12800/54000 (24%)]\tLoss: 0.213102\n",
            "Train Epoch: 9 [19200/54000 (36%)]\tLoss: 0.235108\n",
            "Train Epoch: 9 [25600/54000 (47%)]\tLoss: 0.320926\n",
            "Train Epoch: 9 [32000/54000 (59%)]\tLoss: 0.222811\n",
            "Train Epoch: 9 [38400/54000 (71%)]\tLoss: 0.235080\n",
            "Train Epoch: 9 [44800/54000 (83%)]\tLoss: 0.214015\n",
            "Train Epoch: 9 [51200/54000 (95%)]\tLoss: 0.231438\n",
            "\n",
            "Test set: Average loss: 0.2144, Accuracy: 49780/54000 (92%)\n",
            "\n",
            "Train Epoch: 10 [0/54000 (0%)]\tLoss: 0.209469\n",
            "Train Epoch: 10 [6400/54000 (12%)]\tLoss: 0.221332\n",
            "Train Epoch: 10 [12800/54000 (24%)]\tLoss: 0.306157\n",
            "Train Epoch: 10 [19200/54000 (36%)]\tLoss: 0.175261\n",
            "Train Epoch: 10 [25600/54000 (47%)]\tLoss: 0.193172\n",
            "Train Epoch: 10 [32000/54000 (59%)]\tLoss: 0.165312\n",
            "Train Epoch: 10 [38400/54000 (71%)]\tLoss: 0.209243\n",
            "Train Epoch: 10 [44800/54000 (83%)]\tLoss: 0.273519\n",
            "Train Epoch: 10 [51200/54000 (95%)]\tLoss: 0.304872\n",
            "\n",
            "Test set: Average loss: 0.2037, Accuracy: 49946/54000 (92%)\n",
            "\n",
            "Train Epoch: 11 [0/54000 (0%)]\tLoss: 0.216959\n",
            "Train Epoch: 11 [6400/54000 (12%)]\tLoss: 0.195712\n",
            "Train Epoch: 11 [12800/54000 (24%)]\tLoss: 0.210159\n",
            "Train Epoch: 11 [19200/54000 (36%)]\tLoss: 0.260325\n",
            "Train Epoch: 11 [25600/54000 (47%)]\tLoss: 0.233906\n",
            "Train Epoch: 11 [32000/54000 (59%)]\tLoss: 0.216139\n",
            "Train Epoch: 11 [38400/54000 (71%)]\tLoss: 0.179798\n",
            "Train Epoch: 11 [44800/54000 (83%)]\tLoss: 0.164953\n",
            "Train Epoch: 11 [51200/54000 (95%)]\tLoss: 0.208538\n",
            "\n",
            "Test set: Average loss: 0.2060, Accuracy: 49917/54000 (92%)\n",
            "\n",
            "Train Epoch: 12 [0/54000 (0%)]\tLoss: 0.222671\n",
            "Train Epoch: 12 [6400/54000 (12%)]\tLoss: 0.331035\n",
            "Train Epoch: 12 [12800/54000 (24%)]\tLoss: 0.200556\n",
            "Train Epoch: 12 [19200/54000 (36%)]\tLoss: 0.189951\n",
            "Train Epoch: 12 [25600/54000 (47%)]\tLoss: 0.112799\n",
            "Train Epoch: 12 [32000/54000 (59%)]\tLoss: 0.223687\n",
            "Train Epoch: 12 [38400/54000 (71%)]\tLoss: 0.230163\n",
            "Train Epoch: 12 [44800/54000 (83%)]\tLoss: 0.213556\n",
            "Train Epoch: 12 [51200/54000 (95%)]\tLoss: 0.196760\n",
            "\n",
            "Test set: Average loss: 0.1946, Accuracy: 50030/54000 (93%)\n",
            "\n",
            "Train Epoch: 13 [0/54000 (0%)]\tLoss: 0.263458\n",
            "Train Epoch: 13 [6400/54000 (12%)]\tLoss: 0.259638\n",
            "Train Epoch: 13 [12800/54000 (24%)]\tLoss: 0.205235\n",
            "Train Epoch: 13 [19200/54000 (36%)]\tLoss: 0.166911\n",
            "Train Epoch: 13 [25600/54000 (47%)]\tLoss: 0.229095\n",
            "Train Epoch: 13 [32000/54000 (59%)]\tLoss: 0.156207\n",
            "Train Epoch: 13 [38400/54000 (71%)]\tLoss: 0.126352\n",
            "Train Epoch: 13 [44800/54000 (83%)]\tLoss: 0.258309\n",
            "Train Epoch: 13 [51200/54000 (95%)]\tLoss: 0.229987\n",
            "\n",
            "Test set: Average loss: 0.1788, Accuracy: 50574/54000 (94%)\n",
            "\n",
            "Train Epoch: 14 [0/54000 (0%)]\tLoss: 0.205941\n",
            "Train Epoch: 14 [6400/54000 (12%)]\tLoss: 0.186882\n",
            "Train Epoch: 14 [12800/54000 (24%)]\tLoss: 0.256473\n",
            "Train Epoch: 14 [19200/54000 (36%)]\tLoss: 0.140015\n",
            "Train Epoch: 14 [25600/54000 (47%)]\tLoss: 0.169640\n",
            "Train Epoch: 14 [32000/54000 (59%)]\tLoss: 0.154714\n",
            "Train Epoch: 14 [38400/54000 (71%)]\tLoss: 0.137241\n",
            "Train Epoch: 14 [44800/54000 (83%)]\tLoss: 0.203716\n",
            "Train Epoch: 14 [51200/54000 (95%)]\tLoss: 0.161262\n",
            "\n",
            "Test set: Average loss: 0.1807, Accuracy: 50456/54000 (93%)\n",
            "\n",
            "Train Epoch: 15 [0/54000 (0%)]\tLoss: 0.179086\n",
            "Train Epoch: 15 [6400/54000 (12%)]\tLoss: 0.200848\n",
            "Train Epoch: 15 [12800/54000 (24%)]\tLoss: 0.152046\n",
            "Train Epoch: 15 [19200/54000 (36%)]\tLoss: 0.209334\n",
            "Train Epoch: 15 [25600/54000 (47%)]\tLoss: 0.127367\n",
            "Train Epoch: 15 [32000/54000 (59%)]\tLoss: 0.178775\n",
            "Train Epoch: 15 [38400/54000 (71%)]\tLoss: 0.246280\n",
            "Train Epoch: 15 [44800/54000 (83%)]\tLoss: 0.195740\n",
            "Train Epoch: 15 [51200/54000 (95%)]\tLoss: 0.219152\n",
            "\n",
            "Test set: Average loss: 0.1598, Accuracy: 50884/54000 (94%)\n",
            "\n",
            "Train Epoch: 16 [0/54000 (0%)]\tLoss: 0.186603\n",
            "Train Epoch: 16 [6400/54000 (12%)]\tLoss: 0.166598\n",
            "Train Epoch: 16 [12800/54000 (24%)]\tLoss: 0.125340\n",
            "Train Epoch: 16 [19200/54000 (36%)]\tLoss: 0.192000\n",
            "Train Epoch: 16 [25600/54000 (47%)]\tLoss: 0.150826\n",
            "Train Epoch: 16 [32000/54000 (59%)]\tLoss: 0.135784\n",
            "Train Epoch: 16 [38400/54000 (71%)]\tLoss: 0.227848\n",
            "Train Epoch: 16 [44800/54000 (83%)]\tLoss: 0.151982\n",
            "Train Epoch: 16 [51200/54000 (95%)]\tLoss: 0.110249\n",
            "\n",
            "Test set: Average loss: 0.1681, Accuracy: 50584/54000 (94%)\n",
            "\n",
            "Train Epoch: 17 [0/54000 (0%)]\tLoss: 0.166332\n",
            "Train Epoch: 17 [6400/54000 (12%)]\tLoss: 0.121051\n",
            "Train Epoch: 17 [12800/54000 (24%)]\tLoss: 0.071035\n",
            "Train Epoch: 17 [19200/54000 (36%)]\tLoss: 0.142499\n",
            "Train Epoch: 17 [25600/54000 (47%)]\tLoss: 0.158056\n",
            "Train Epoch: 17 [32000/54000 (59%)]\tLoss: 0.225879\n",
            "Train Epoch: 17 [38400/54000 (71%)]\tLoss: 0.185459\n",
            "Train Epoch: 17 [44800/54000 (83%)]\tLoss: 0.173888\n",
            "Train Epoch: 17 [51200/54000 (95%)]\tLoss: 0.131322\n",
            "\n",
            "Test set: Average loss: 0.1488, Accuracy: 50979/54000 (94%)\n",
            "\n",
            "Train Epoch: 18 [0/54000 (0%)]\tLoss: 0.149080\n",
            "Train Epoch: 18 [6400/54000 (12%)]\tLoss: 0.083971\n",
            "Train Epoch: 18 [12800/54000 (24%)]\tLoss: 0.146928\n",
            "Train Epoch: 18 [19200/54000 (36%)]\tLoss: 0.239973\n",
            "Train Epoch: 18 [25600/54000 (47%)]\tLoss: 0.212383\n",
            "Train Epoch: 18 [32000/54000 (59%)]\tLoss: 0.153725\n",
            "Train Epoch: 18 [38400/54000 (71%)]\tLoss: 0.180276\n",
            "Train Epoch: 18 [44800/54000 (83%)]\tLoss: 0.164359\n",
            "Train Epoch: 18 [51200/54000 (95%)]\tLoss: 0.169052\n",
            "\n",
            "Test set: Average loss: 0.1456, Accuracy: 51073/54000 (95%)\n",
            "\n",
            "Train Epoch: 19 [0/54000 (0%)]\tLoss: 0.176389\n",
            "Train Epoch: 19 [6400/54000 (12%)]\tLoss: 0.111450\n",
            "Train Epoch: 19 [12800/54000 (24%)]\tLoss: 0.149633\n",
            "Train Epoch: 19 [19200/54000 (36%)]\tLoss: 0.190673\n",
            "Train Epoch: 19 [25600/54000 (47%)]\tLoss: 0.129138\n",
            "Train Epoch: 19 [32000/54000 (59%)]\tLoss: 0.097767\n",
            "Train Epoch: 19 [38400/54000 (71%)]\tLoss: 0.103723\n",
            "Train Epoch: 19 [44800/54000 (83%)]\tLoss: 0.092701\n",
            "Train Epoch: 19 [51200/54000 (95%)]\tLoss: 0.130805\n",
            "\n",
            "Test set: Average loss: 0.1608, Accuracy: 50757/54000 (94%)\n",
            "\n",
            "Train Epoch: 20 [0/54000 (0%)]\tLoss: 0.202890\n",
            "Train Epoch: 20 [6400/54000 (12%)]\tLoss: 0.122024\n",
            "Train Epoch: 20 [12800/54000 (24%)]\tLoss: 0.156605\n",
            "Train Epoch: 20 [19200/54000 (36%)]\tLoss: 0.156310\n",
            "Train Epoch: 20 [25600/54000 (47%)]\tLoss: 0.158524\n",
            "Train Epoch: 20 [32000/54000 (59%)]\tLoss: 0.160340\n",
            "Train Epoch: 20 [38400/54000 (71%)]\tLoss: 0.136625\n",
            "Train Epoch: 20 [44800/54000 (83%)]\tLoss: 0.106094\n",
            "Train Epoch: 20 [51200/54000 (95%)]\tLoss: 0.118369\n",
            "\n",
            "Test set: Average loss: 0.1342, Accuracy: 51342/54000 (95%)\n",
            "\n",
            "Train Epoch: 21 [0/54000 (0%)]\tLoss: 0.090312\n",
            "Train Epoch: 21 [6400/54000 (12%)]\tLoss: 0.121884\n",
            "Train Epoch: 21 [12800/54000 (24%)]\tLoss: 0.232992\n",
            "Train Epoch: 21 [19200/54000 (36%)]\tLoss: 0.161395\n",
            "Train Epoch: 21 [25600/54000 (47%)]\tLoss: 0.108881\n",
            "Train Epoch: 21 [32000/54000 (59%)]\tLoss: 0.169744\n",
            "Train Epoch: 21 [38400/54000 (71%)]\tLoss: 0.184726\n",
            "Train Epoch: 21 [44800/54000 (83%)]\tLoss: 0.131280\n",
            "Train Epoch: 21 [51200/54000 (95%)]\tLoss: 0.092517\n",
            "\n",
            "Test set: Average loss: 0.1167, Accuracy: 51674/54000 (96%)\n",
            "\n",
            "Train Epoch: 22 [0/54000 (0%)]\tLoss: 0.123522\n",
            "Train Epoch: 22 [6400/54000 (12%)]\tLoss: 0.149385\n",
            "Train Epoch: 22 [12800/54000 (24%)]\tLoss: 0.193604\n",
            "Train Epoch: 22 [19200/54000 (36%)]\tLoss: 0.171965\n",
            "Train Epoch: 22 [25600/54000 (47%)]\tLoss: 0.180221\n",
            "Train Epoch: 22 [32000/54000 (59%)]\tLoss: 0.121928\n",
            "Train Epoch: 22 [38400/54000 (71%)]\tLoss: 0.121510\n",
            "Train Epoch: 22 [44800/54000 (83%)]\tLoss: 0.105621\n",
            "Train Epoch: 22 [51200/54000 (95%)]\tLoss: 0.082106\n",
            "\n",
            "Test set: Average loss: 0.1259, Accuracy: 51476/54000 (95%)\n",
            "\n",
            "Train Epoch: 23 [0/54000 (0%)]\tLoss: 0.077281\n",
            "Train Epoch: 23 [6400/54000 (12%)]\tLoss: 0.092343\n",
            "Train Epoch: 23 [12800/54000 (24%)]\tLoss: 0.092947\n",
            "Train Epoch: 23 [19200/54000 (36%)]\tLoss: 0.081042\n",
            "Train Epoch: 23 [25600/54000 (47%)]\tLoss: 0.106232\n",
            "Train Epoch: 23 [32000/54000 (59%)]\tLoss: 0.145769\n",
            "Train Epoch: 23 [38400/54000 (71%)]\tLoss: 0.217626\n",
            "Train Epoch: 23 [44800/54000 (83%)]\tLoss: 0.110755\n",
            "Train Epoch: 23 [51200/54000 (95%)]\tLoss: 0.148269\n",
            "\n",
            "Test set: Average loss: 0.1136, Accuracy: 51771/54000 (96%)\n",
            "\n",
            "Train Epoch: 24 [0/54000 (0%)]\tLoss: 0.117287\n",
            "Train Epoch: 24 [6400/54000 (12%)]\tLoss: 0.170044\n",
            "Train Epoch: 24 [12800/54000 (24%)]\tLoss: 0.242508\n",
            "Train Epoch: 24 [19200/54000 (36%)]\tLoss: 0.191356\n",
            "Train Epoch: 24 [25600/54000 (47%)]\tLoss: 0.077333\n",
            "Train Epoch: 24 [32000/54000 (59%)]\tLoss: 0.077996\n",
            "Train Epoch: 24 [38400/54000 (71%)]\tLoss: 0.120543\n",
            "Train Epoch: 24 [44800/54000 (83%)]\tLoss: 0.088355\n",
            "Train Epoch: 24 [51200/54000 (95%)]\tLoss: 0.102587\n",
            "\n",
            "Test set: Average loss: 0.1285, Accuracy: 51390/54000 (95%)\n",
            "\n",
            "Train Epoch: 25 [0/54000 (0%)]\tLoss: 0.100649\n",
            "Train Epoch: 25 [6400/54000 (12%)]\tLoss: 0.176186\n",
            "Train Epoch: 25 [12800/54000 (24%)]\tLoss: 0.150067\n",
            "Train Epoch: 25 [19200/54000 (36%)]\tLoss: 0.065785\n",
            "Train Epoch: 25 [25600/54000 (47%)]\tLoss: 0.104185\n",
            "Train Epoch: 25 [32000/54000 (59%)]\tLoss: 0.120608\n",
            "Train Epoch: 25 [38400/54000 (71%)]\tLoss: 0.172584\n",
            "Train Epoch: 25 [44800/54000 (83%)]\tLoss: 0.197441\n",
            "Train Epoch: 25 [51200/54000 (95%)]\tLoss: 0.230665\n",
            "\n",
            "Test set: Average loss: 0.1011, Accuracy: 51979/54000 (96%)\n",
            "\n",
            "Train Epoch: 26 [0/54000 (0%)]\tLoss: 0.138716\n",
            "Train Epoch: 26 [6400/54000 (12%)]\tLoss: 0.137064\n",
            "Train Epoch: 26 [12800/54000 (24%)]\tLoss: 0.103309\n",
            "Train Epoch: 26 [19200/54000 (36%)]\tLoss: 0.093237\n",
            "Train Epoch: 26 [25600/54000 (47%)]\tLoss: 0.119250\n",
            "Train Epoch: 26 [32000/54000 (59%)]\tLoss: 0.133057\n",
            "Train Epoch: 26 [38400/54000 (71%)]\tLoss: 0.151549\n",
            "Train Epoch: 26 [44800/54000 (83%)]\tLoss: 0.149424\n",
            "Train Epoch: 26 [51200/54000 (95%)]\tLoss: 0.119857\n",
            "\n",
            "Test set: Average loss: 0.0930, Accuracy: 52173/54000 (97%)\n",
            "\n",
            "Train Epoch: 27 [0/54000 (0%)]\tLoss: 0.140317\n",
            "Train Epoch: 27 [6400/54000 (12%)]\tLoss: 0.092843\n",
            "Train Epoch: 27 [12800/54000 (24%)]\tLoss: 0.052631\n",
            "Train Epoch: 27 [19200/54000 (36%)]\tLoss: 0.068977\n",
            "Train Epoch: 27 [25600/54000 (47%)]\tLoss: 0.056220\n",
            "Train Epoch: 27 [32000/54000 (59%)]\tLoss: 0.105717\n",
            "Train Epoch: 27 [38400/54000 (71%)]\tLoss: 0.068422\n",
            "Train Epoch: 27 [44800/54000 (83%)]\tLoss: 0.090941\n",
            "Train Epoch: 27 [51200/54000 (95%)]\tLoss: 0.117663\n",
            "\n",
            "Test set: Average loss: 0.1075, Accuracy: 51855/54000 (96%)\n",
            "\n",
            "Train Epoch: 28 [0/54000 (0%)]\tLoss: 0.059791\n",
            "Train Epoch: 28 [6400/54000 (12%)]\tLoss: 0.070767\n",
            "Train Epoch: 28 [12800/54000 (24%)]\tLoss: 0.115689\n",
            "Train Epoch: 28 [19200/54000 (36%)]\tLoss: 0.106082\n",
            "Train Epoch: 28 [25600/54000 (47%)]\tLoss: 0.080598\n",
            "Train Epoch: 28 [32000/54000 (59%)]\tLoss: 0.119034\n",
            "Train Epoch: 28 [38400/54000 (71%)]\tLoss: 0.050240\n",
            "Train Epoch: 28 [44800/54000 (83%)]\tLoss: 0.146258\n",
            "Train Epoch: 28 [51200/54000 (95%)]\tLoss: 0.081649\n",
            "\n",
            "Test set: Average loss: 0.0928, Accuracy: 52189/54000 (97%)\n",
            "\n",
            "Train Epoch: 29 [0/54000 (0%)]\tLoss: 0.089730\n",
            "Train Epoch: 29 [6400/54000 (12%)]\tLoss: 0.075310\n",
            "Train Epoch: 29 [12800/54000 (24%)]\tLoss: 0.101208\n",
            "Train Epoch: 29 [19200/54000 (36%)]\tLoss: 0.174348\n",
            "Train Epoch: 29 [25600/54000 (47%)]\tLoss: 0.109074\n",
            "Train Epoch: 29 [32000/54000 (59%)]\tLoss: 0.062013\n",
            "Train Epoch: 29 [38400/54000 (71%)]\tLoss: 0.122764\n",
            "Train Epoch: 29 [44800/54000 (83%)]\tLoss: 0.083437\n",
            "Train Epoch: 29 [51200/54000 (95%)]\tLoss: 0.053280\n",
            "\n",
            "Test set: Average loss: 0.0965, Accuracy: 51993/54000 (96%)\n",
            "\n",
            "Train Epoch: 30 [0/54000 (0%)]\tLoss: 0.093102\n",
            "Train Epoch: 30 [6400/54000 (12%)]\tLoss: 0.074305\n",
            "Train Epoch: 30 [12800/54000 (24%)]\tLoss: 0.056643\n",
            "Train Epoch: 30 [19200/54000 (36%)]\tLoss: 0.085375\n",
            "Train Epoch: 30 [25600/54000 (47%)]\tLoss: 0.070466\n",
            "Train Epoch: 30 [32000/54000 (59%)]\tLoss: 0.088746\n",
            "Train Epoch: 30 [38400/54000 (71%)]\tLoss: 0.054144\n",
            "Train Epoch: 30 [44800/54000 (83%)]\tLoss: 0.065900\n",
            "Train Epoch: 30 [51200/54000 (95%)]\tLoss: 0.136552\n",
            "\n",
            "Test set: Average loss: 0.0746, Accuracy: 52565/54000 (97%)\n",
            "\n",
            "CPU times: user 10min 44s, sys: 1.23 s, total: 10min 45s\n",
            "Wall time: 10min 51s\n"
          ]
        }
      ]
    },
    {
      "cell_type": "markdown",
      "source": [],
      "metadata": {
        "id": "4oIlaMnAQ5oU"
      }
    }
  ]
}
