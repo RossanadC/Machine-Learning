{
  "cells": [
    {
      "cell_type": "markdown",
      "metadata": {
        "id": "view-in-github",
        "colab_type": "text"
      },
      "source": [
        "<a href=\"https://colab.research.google.com/github/RossanadC/Machine-Learning/blob/main/pytorch_gradient_computation.ipynb\" target=\"_parent\"><img src=\"https://colab.research.google.com/assets/colab-badge.svg\" alt=\"Open In Colab\"/></a>"
      ]
    },
    {
      "cell_type": "markdown",
      "metadata": {
        "id": "TQbYBAB9YI7C"
      },
      "source": [
        "Importiamo le librerie\n",
        "\n",
        "---\n",
        "\n",
        "\n",
        "pip-->comando che installa il nuovo pacchetto\n"
      ]
    },
    {
      "cell_type": "code",
      "execution_count": 1,
      "metadata": {
        "colab": {
          "base_uri": "https://localhost:8080/"
        },
        "id": "oOoiRt1xeiwP",
        "outputId": "7f2731ac-fed4-4d56-9dcb-fc50c561fe4d"
      },
      "outputs": [
        {
          "output_type": "stream",
          "name": "stdout",
          "text": [
            "Collecting torchviz\n",
            "  Downloading torchviz-0.0.3-py3-none-any.whl.metadata (2.1 kB)\n",
            "Requirement already satisfied: torch in /usr/local/lib/python3.12/dist-packages (from torchviz) (2.8.0+cu126)\n",
            "Requirement already satisfied: graphviz in /usr/local/lib/python3.12/dist-packages (from torchviz) (0.21)\n",
            "Requirement already satisfied: filelock in /usr/local/lib/python3.12/dist-packages (from torch->torchviz) (3.20.0)\n",
            "Requirement already satisfied: typing-extensions>=4.10.0 in /usr/local/lib/python3.12/dist-packages (from torch->torchviz) (4.15.0)\n",
            "Requirement already satisfied: setuptools in /usr/local/lib/python3.12/dist-packages (from torch->torchviz) (75.2.0)\n",
            "Requirement already satisfied: sympy>=1.13.3 in /usr/local/lib/python3.12/dist-packages (from torch->torchviz) (1.13.3)\n",
            "Requirement already satisfied: networkx in /usr/local/lib/python3.12/dist-packages (from torch->torchviz) (3.5)\n",
            "Requirement already satisfied: jinja2 in /usr/local/lib/python3.12/dist-packages (from torch->torchviz) (3.1.6)\n",
            "Requirement already satisfied: fsspec in /usr/local/lib/python3.12/dist-packages (from torch->torchviz) (2025.3.0)\n",
            "Requirement already satisfied: nvidia-cuda-nvrtc-cu12==12.6.77 in /usr/local/lib/python3.12/dist-packages (from torch->torchviz) (12.6.77)\n",
            "Requirement already satisfied: nvidia-cuda-runtime-cu12==12.6.77 in /usr/local/lib/python3.12/dist-packages (from torch->torchviz) (12.6.77)\n",
            "Requirement already satisfied: nvidia-cuda-cupti-cu12==12.6.80 in /usr/local/lib/python3.12/dist-packages (from torch->torchviz) (12.6.80)\n",
            "Requirement already satisfied: nvidia-cudnn-cu12==9.10.2.21 in /usr/local/lib/python3.12/dist-packages (from torch->torchviz) (9.10.2.21)\n",
            "Requirement already satisfied: nvidia-cublas-cu12==12.6.4.1 in /usr/local/lib/python3.12/dist-packages (from torch->torchviz) (12.6.4.1)\n",
            "Requirement already satisfied: nvidia-cufft-cu12==11.3.0.4 in /usr/local/lib/python3.12/dist-packages (from torch->torchviz) (11.3.0.4)\n",
            "Requirement already satisfied: nvidia-curand-cu12==10.3.7.77 in /usr/local/lib/python3.12/dist-packages (from torch->torchviz) (10.3.7.77)\n",
            "Requirement already satisfied: nvidia-cusolver-cu12==11.7.1.2 in /usr/local/lib/python3.12/dist-packages (from torch->torchviz) (11.7.1.2)\n",
            "Requirement already satisfied: nvidia-cusparse-cu12==12.5.4.2 in /usr/local/lib/python3.12/dist-packages (from torch->torchviz) (12.5.4.2)\n",
            "Requirement already satisfied: nvidia-cusparselt-cu12==0.7.1 in /usr/local/lib/python3.12/dist-packages (from torch->torchviz) (0.7.1)\n",
            "Requirement already satisfied: nvidia-nccl-cu12==2.27.3 in /usr/local/lib/python3.12/dist-packages (from torch->torchviz) (2.27.3)\n",
            "Requirement already satisfied: nvidia-nvtx-cu12==12.6.77 in /usr/local/lib/python3.12/dist-packages (from torch->torchviz) (12.6.77)\n",
            "Requirement already satisfied: nvidia-nvjitlink-cu12==12.6.85 in /usr/local/lib/python3.12/dist-packages (from torch->torchviz) (12.6.85)\n",
            "Requirement already satisfied: nvidia-cufile-cu12==1.11.1.6 in /usr/local/lib/python3.12/dist-packages (from torch->torchviz) (1.11.1.6)\n",
            "Requirement already satisfied: triton==3.4.0 in /usr/local/lib/python3.12/dist-packages (from torch->torchviz) (3.4.0)\n",
            "Requirement already satisfied: mpmath<1.4,>=1.1.0 in /usr/local/lib/python3.12/dist-packages (from sympy>=1.13.3->torch->torchviz) (1.3.0)\n",
            "Requirement already satisfied: MarkupSafe>=2.0 in /usr/local/lib/python3.12/dist-packages (from jinja2->torch->torchviz) (3.0.3)\n",
            "Downloading torchviz-0.0.3-py3-none-any.whl (5.7 kB)\n",
            "Installing collected packages: torchviz\n",
            "Successfully installed torchviz-0.0.3\n"
          ]
        }
      ],
      "source": [
        "# numpy and pytorch are already installed\n",
        "import numpy as np\n",
        "import torch\n",
        "# for computational graph visualization\n",
        "!pip install torchviz"
      ]
    },
    {
      "cell_type": "markdown",
      "metadata": {
        "id": "NxtbPOXNYI7G"
      },
      "source": [
        "Definiamo dei tensori che hanno delle caratteristiche diverse, per cui richiediamo di calcolare i gradienti. Pytorch sa che questi devono essere inseriti in un grafo di comuptazione e deve abilitare il calcolo dei gradienti.\n",
        "x e y input per il caloclo della loss\n",
        "w i pesi\n"
      ]
    },
    {
      "cell_type": "code",
      "execution_count": 2,
      "metadata": {
        "colab": {
          "base_uri": "https://localhost:8080/"
        },
        "id": "A9hFkPeUepqz",
        "outputId": "c21ca82f-99f9-4efd-c4cb-58764c00d783"
      },
      "outputs": [
        {
          "output_type": "stream",
          "name": "stdout",
          "text": [
            "tensor([0.2689], grad_fn=<MulBackward0>)\n"
          ]
        }
      ],
      "source": [
        "# variables requiring gradient computation (requires_grad=True)\n",
        "x = torch.tensor([2.0], requires_grad=True)\n",
        "y = torch.tensor([1.0], requires_grad=True)\n",
        "w = torch.tensor([-0.5], requires_grad=True)\n",
        "b = torch.tensor([0.0], requires_grad=True)\n",
        "\n",
        "# output --> l'output in questo caso è la rete\n",
        "z = 1/(1 + torch.exp(-(w*x+b)))\n",
        "print(z)#ci troviamo un tensore\n",
        "\n",
        "# loss function--> qui l'abbiamo definita a mano ma pytrorch ha funzioni già predifinite che ci evita di farlo a mano ogni volta\n",
        "l = -y* torch.log(z) - (1-y) * torch.log(1-z)\n",
        "\n"
      ]
    },
    {
      "cell_type": "code",
      "execution_count": 3,
      "metadata": {
        "colab": {
          "base_uri": "https://localhost:8080/"
        },
        "id": "7AfZbCHbIooZ",
        "outputId": "4b08b3f2-6595-489d-a6f5-6fe8681f2073"
      },
      "outputs": [
        {
          "output_type": "execute_result",
          "data": {
            "text/plain": [
              "tensor([1.3133], grad_fn=<SubBackward0>)"
            ]
          },
          "metadata": {},
          "execution_count": 3
        }
      ],
      "source": [
        "l"
      ]
    },
    {
      "cell_type": "markdown",
      "metadata": {
        "id": "xIWlfx5AYI7I"
      },
      "source": [
        "Visulizzazione del campo di compiutazione inversa\n",
        "moltiplicazione addizione negazione esposizione backward\n",
        "tutte le op elementari che pytorch usa invertite per potrer calcolare i gradienti"
      ]
    },
    {
      "cell_type": "code",
      "execution_count": 4,
      "metadata": {
        "colab": {
          "base_uri": "https://localhost:8080/",
          "height": 1000
        },
        "id": "Y2kevW6Pex_l",
        "outputId": "5c7d36a1-97bb-4a67-9a70-9f1166fb0abb"
      },
      "outputs": [
        {
          "output_type": "execute_result",
          "data": {
            "image/svg+xml": "<?xml version=\"1.0\" encoding=\"UTF-8\" standalone=\"no\"?>\n<!DOCTYPE svg PUBLIC \"-//W3C//DTD SVG 1.1//EN\"\n \"http://www.w3.org/Graphics/SVG/1.1/DTD/svg11.dtd\">\n<!-- Generated by graphviz version 2.43.0 (0)\n -->\n<!-- Title: %3 Pages: 1 -->\n<svg width=\"425pt\" height=\"787pt\"\n viewBox=\"0.00 0.00 425.00 787.00\" xmlns=\"http://www.w3.org/2000/svg\" xmlns:xlink=\"http://www.w3.org/1999/xlink\">\n<g id=\"graph0\" class=\"graph\" transform=\"scale(1 1) rotate(0) translate(4 783)\">\n<title>%3</title>\n<polygon fill=\"white\" stroke=\"transparent\" points=\"-4,4 -4,-783 421,-783 421,4 -4,4\"/>\n<!-- 135187879419392 -->\n<g id=\"node1\" class=\"node\">\n<title>135187879419392</title>\n<polygon fill=\"#caff70\" stroke=\"black\" points=\"229.5,-31 175.5,-31 175.5,0 229.5,0 229.5,-31\"/>\n<text text-anchor=\"middle\" x=\"202.5\" y=\"-7\" font-family=\"monospace\" font-size=\"10.00\"> (1)</text>\n</g>\n<!-- 135187743886160 -->\n<g id=\"node2\" class=\"node\">\n<title>135187743886160</title>\n<polygon fill=\"lightgrey\" stroke=\"black\" points=\"247,-86 158,-86 158,-67 247,-67 247,-86\"/>\n<text text-anchor=\"middle\" x=\"202.5\" y=\"-74\" font-family=\"monospace\" font-size=\"10.00\">SubBackward0</text>\n</g>\n<!-- 135187743886160&#45;&gt;135187879419392 -->\n<g id=\"edge25\" class=\"edge\">\n<title>135187743886160&#45;&gt;135187879419392</title>\n<path fill=\"none\" stroke=\"black\" d=\"M202.5,-66.79C202.5,-60.07 202.5,-50.4 202.5,-41.34\"/>\n<polygon fill=\"black\" stroke=\"black\" points=\"206,-41.19 202.5,-31.19 199,-41.19 206,-41.19\"/>\n</g>\n<!-- 135187743886256 -->\n<g id=\"node3\" class=\"node\">\n<title>135187743886256</title>\n<polygon fill=\"lightgrey\" stroke=\"black\" points=\"301,-141 212,-141 212,-122 301,-122 301,-141\"/>\n<text text-anchor=\"middle\" x=\"256.5\" y=\"-129\" font-family=\"monospace\" font-size=\"10.00\">MulBackward0</text>\n</g>\n<!-- 135187743886256&#45;&gt;135187743886160 -->\n<g id=\"edge1\" class=\"edge\">\n<title>135187743886256&#45;&gt;135187743886160</title>\n<path fill=\"none\" stroke=\"black\" d=\"M247.58,-121.75C239.72,-114.03 228.07,-102.6 218.58,-93.28\"/>\n<polygon fill=\"black\" stroke=\"black\" points=\"220.84,-90.6 211.25,-86.09 215.94,-95.59 220.84,-90.6\"/>\n</g>\n<!-- 135187743886064 -->\n<g id=\"node4\" class=\"node\">\n<title>135187743886064</title>\n<polygon fill=\"lightgrey\" stroke=\"black\" points=\"202,-196 113,-196 113,-177 202,-177 202,-196\"/>\n<text text-anchor=\"middle\" x=\"157.5\" y=\"-184\" font-family=\"monospace\" font-size=\"10.00\">NegBackward0</text>\n</g>\n<!-- 135187743886064&#45;&gt;135187743886256 -->\n<g id=\"edge2\" class=\"edge\">\n<title>135187743886064&#45;&gt;135187743886256</title>\n<path fill=\"none\" stroke=\"black\" d=\"M173.41,-176.98C189.05,-168.61 213.16,-155.7 231.38,-145.95\"/>\n<polygon fill=\"black\" stroke=\"black\" points=\"233.14,-148.98 240.3,-141.17 229.84,-142.8 233.14,-148.98\"/>\n</g>\n<!-- 135183655975904 -->\n<g id=\"node5\" class=\"node\">\n<title>135183655975904</title>\n<polygon fill=\"lightgrey\" stroke=\"black\" points=\"148,-251 47,-251 47,-232 148,-232 148,-251\"/>\n<text text-anchor=\"middle\" x=\"97.5\" y=\"-239\" font-family=\"monospace\" font-size=\"10.00\">AccumulateGrad</text>\n</g>\n<!-- 135183655975904&#45;&gt;135187743886064 -->\n<g id=\"edge3\" class=\"edge\">\n<title>135183655975904&#45;&gt;135187743886064</title>\n<path fill=\"none\" stroke=\"black\" d=\"M107.14,-231.98C116.01,-224.15 129.37,-212.34 140.11,-202.86\"/>\n<polygon fill=\"black\" stroke=\"black\" points=\"142.51,-205.41 147.68,-196.17 137.87,-200.17 142.51,-205.41\"/>\n</g>\n<!-- 135187743886544 -->\n<g id=\"node22\" class=\"node\">\n<title>135187743886544</title>\n<polygon fill=\"lightgrey\" stroke=\"black\" points=\"95,-196 0,-196 0,-177 95,-177 95,-196\"/>\n<text text-anchor=\"middle\" x=\"47.5\" y=\"-184\" font-family=\"monospace\" font-size=\"10.00\">RsubBackward1</text>\n</g>\n<!-- 135183655975904&#45;&gt;135187743886544 -->\n<g id=\"edge21\" class=\"edge\">\n<title>135183655975904&#45;&gt;135187743886544</title>\n<path fill=\"none\" stroke=\"black\" d=\"M89.24,-231.75C82.04,-224.11 71.39,-212.82 62.65,-203.56\"/>\n<polygon fill=\"black\" stroke=\"black\" points=\"65.01,-200.96 55.6,-196.09 59.92,-205.76 65.01,-200.96\"/>\n</g>\n<!-- 135187857738160 -->\n<g id=\"node6\" class=\"node\">\n<title>135187857738160</title>\n<polygon fill=\"lightblue\" stroke=\"black\" points=\"124.5,-317 70.5,-317 70.5,-287 124.5,-287 124.5,-317\"/>\n<text text-anchor=\"middle\" x=\"97.5\" y=\"-305\" font-family=\"monospace\" font-size=\"10.00\">y</text>\n<text text-anchor=\"middle\" x=\"97.5\" y=\"-294\" font-family=\"monospace\" font-size=\"10.00\"> (1)</text>\n</g>\n<!-- 135187857738160&#45;&gt;135183655975904 -->\n<g id=\"edge4\" class=\"edge\">\n<title>135187857738160&#45;&gt;135183655975904</title>\n<path fill=\"none\" stroke=\"black\" d=\"M97.5,-286.84C97.5,-279.21 97.5,-269.7 97.5,-261.45\"/>\n<polygon fill=\"black\" stroke=\"black\" points=\"101,-261.27 97.5,-251.27 94,-261.27 101,-261.27\"/>\n</g>\n<!-- 135187743886496 -->\n<g id=\"node7\" class=\"node\">\n<title>135187743886496</title>\n<polygon fill=\"lightgrey\" stroke=\"black\" points=\"409,-251 320,-251 320,-232 409,-232 409,-251\"/>\n<text text-anchor=\"middle\" x=\"364.5\" y=\"-239\" font-family=\"monospace\" font-size=\"10.00\">LogBackward0</text>\n</g>\n<!-- 135187743886496&#45;&gt;135187743886256 -->\n<g id=\"edge5\" class=\"edge\">\n<title>135187743886496&#45;&gt;135187743886256</title>\n<path fill=\"none\" stroke=\"black\" d=\"M359.16,-231.63C351.14,-218.72 335.02,-194.4 317.5,-177 306.01,-165.59 291.41,-154.83 279.37,-146.75\"/>\n<polygon fill=\"black\" stroke=\"black\" points=\"281.05,-143.67 270.76,-141.13 277.22,-149.53 281.05,-143.67\"/>\n</g>\n<!-- 135187743886448 -->\n<g id=\"node8\" class=\"node\">\n<title>135187743886448</title>\n<polygon fill=\"lightgrey\" stroke=\"black\" points=\"354,-311.5 265,-311.5 265,-292.5 354,-292.5 354,-311.5\"/>\n<text text-anchor=\"middle\" x=\"309.5\" y=\"-299.5\" font-family=\"monospace\" font-size=\"10.00\">MulBackward0</text>\n</g>\n<!-- 135187743886448&#45;&gt;135187743886496 -->\n<g id=\"edge6\" class=\"edge\">\n<title>135187743886448&#45;&gt;135187743886496</title>\n<path fill=\"none\" stroke=\"black\" d=\"M317.62,-292.37C325.9,-283.55 338.97,-269.66 349.2,-258.77\"/>\n<polygon fill=\"black\" stroke=\"black\" points=\"352.05,-260.85 356.35,-251.17 346.95,-256.06 352.05,-260.85\"/>\n</g>\n<!-- 135187743886928 -->\n<g id=\"node24\" class=\"node\">\n<title>135187743886928</title>\n<polygon fill=\"lightgrey\" stroke=\"black\" points=\"302,-251 207,-251 207,-232 302,-232 302,-251\"/>\n<text text-anchor=\"middle\" x=\"254.5\" y=\"-239\" font-family=\"monospace\" font-size=\"10.00\">RsubBackward1</text>\n</g>\n<!-- 135187743886448&#45;&gt;135187743886928 -->\n<g id=\"edge24\" class=\"edge\">\n<title>135187743886448&#45;&gt;135187743886928</title>\n<path fill=\"none\" stroke=\"black\" d=\"M301.38,-292.37C293.1,-283.55 280.03,-269.66 269.8,-258.77\"/>\n<polygon fill=\"black\" stroke=\"black\" points=\"272.05,-256.06 262.65,-251.17 266.95,-260.85 272.05,-256.06\"/>\n</g>\n<!-- 135187743886112 -->\n<g id=\"node9\" class=\"node\">\n<title>135187743886112</title>\n<polygon fill=\"lightgrey\" stroke=\"black\" points=\"375,-372 244,-372 244,-353 375,-353 375,-372\"/>\n<text text-anchor=\"middle\" x=\"309.5\" y=\"-360\" font-family=\"monospace\" font-size=\"10.00\">ReciprocalBackward0</text>\n</g>\n<!-- 135187743886112&#45;&gt;135187743886448 -->\n<g id=\"edge7\" class=\"edge\">\n<title>135187743886112&#45;&gt;135187743886448</title>\n<path fill=\"none\" stroke=\"black\" d=\"M309.5,-352.87C309.5,-344.75 309.5,-332.31 309.5,-321.89\"/>\n<polygon fill=\"black\" stroke=\"black\" points=\"313,-321.67 309.5,-311.67 306,-321.67 313,-321.67\"/>\n</g>\n<!-- 135187744594464 -->\n<g id=\"node10\" class=\"node\">\n<title>135187744594464</title>\n<polygon fill=\"lightgrey\" stroke=\"black\" points=\"354,-427 265,-427 265,-408 354,-408 354,-427\"/>\n<text text-anchor=\"middle\" x=\"309.5\" y=\"-415\" font-family=\"monospace\" font-size=\"10.00\">AddBackward0</text>\n</g>\n<!-- 135187744594464&#45;&gt;135187743886112 -->\n<g id=\"edge8\" class=\"edge\">\n<title>135187744594464&#45;&gt;135187743886112</title>\n<path fill=\"none\" stroke=\"black\" d=\"M309.5,-407.75C309.5,-400.8 309.5,-390.85 309.5,-382.13\"/>\n<polygon fill=\"black\" stroke=\"black\" points=\"313,-382.09 309.5,-372.09 306,-382.09 313,-382.09\"/>\n</g>\n<!-- 135187743886736 -->\n<g id=\"node11\" class=\"node\">\n<title>135187743886736</title>\n<polygon fill=\"lightgrey\" stroke=\"black\" points=\"354,-482 265,-482 265,-463 354,-463 354,-482\"/>\n<text text-anchor=\"middle\" x=\"309.5\" y=\"-470\" font-family=\"monospace\" font-size=\"10.00\">ExpBackward0</text>\n</g>\n<!-- 135187743886736&#45;&gt;135187744594464 -->\n<g id=\"edge9\" class=\"edge\">\n<title>135187743886736&#45;&gt;135187744594464</title>\n<path fill=\"none\" stroke=\"black\" d=\"M309.5,-462.75C309.5,-455.8 309.5,-445.85 309.5,-437.13\"/>\n<polygon fill=\"black\" stroke=\"black\" points=\"313,-437.09 309.5,-427.09 306,-437.09 313,-437.09\"/>\n</g>\n<!-- 135187743886880 -->\n<g id=\"node12\" class=\"node\">\n<title>135187743886880</title>\n<polygon fill=\"lightgrey\" stroke=\"black\" points=\"354,-537 265,-537 265,-518 354,-518 354,-537\"/>\n<text text-anchor=\"middle\" x=\"309.5\" y=\"-525\" font-family=\"monospace\" font-size=\"10.00\">NegBackward0</text>\n</g>\n<!-- 135187743886880&#45;&gt;135187743886736 -->\n<g id=\"edge10\" class=\"edge\">\n<title>135187743886880&#45;&gt;135187743886736</title>\n<path fill=\"none\" stroke=\"black\" d=\"M309.5,-517.75C309.5,-510.8 309.5,-500.85 309.5,-492.13\"/>\n<polygon fill=\"black\" stroke=\"black\" points=\"313,-492.09 309.5,-482.09 306,-492.09 313,-492.09\"/>\n</g>\n<!-- 135187743886976 -->\n<g id=\"node13\" class=\"node\">\n<title>135187743886976</title>\n<polygon fill=\"lightgrey\" stroke=\"black\" points=\"354,-592 265,-592 265,-573 354,-573 354,-592\"/>\n<text text-anchor=\"middle\" x=\"309.5\" y=\"-580\" font-family=\"monospace\" font-size=\"10.00\">AddBackward0</text>\n</g>\n<!-- 135187743886976&#45;&gt;135187743886880 -->\n<g id=\"edge11\" class=\"edge\">\n<title>135187743886976&#45;&gt;135187743886880</title>\n<path fill=\"none\" stroke=\"black\" d=\"M309.5,-572.75C309.5,-565.8 309.5,-555.85 309.5,-547.13\"/>\n<polygon fill=\"black\" stroke=\"black\" points=\"313,-547.09 309.5,-537.09 306,-547.09 313,-547.09\"/>\n</g>\n<!-- 135187743887072 -->\n<g id=\"node14\" class=\"node\">\n<title>135187743887072</title>\n<polygon fill=\"lightgrey\" stroke=\"black\" points=\"298,-647 209,-647 209,-628 298,-628 298,-647\"/>\n<text text-anchor=\"middle\" x=\"253.5\" y=\"-635\" font-family=\"monospace\" font-size=\"10.00\">MulBackward0</text>\n</g>\n<!-- 135187743887072&#45;&gt;135187743886976 -->\n<g id=\"edge12\" class=\"edge\">\n<title>135187743887072&#45;&gt;135187743886976</title>\n<path fill=\"none\" stroke=\"black\" d=\"M262.5,-627.98C270.69,-620.23 283.01,-608.58 292.97,-599.14\"/>\n<polygon fill=\"black\" stroke=\"black\" points=\"295.48,-601.59 300.34,-592.17 290.67,-596.5 295.48,-601.59\"/>\n</g>\n<!-- 135187743887216 -->\n<g id=\"node15\" class=\"node\">\n<title>135187743887216</title>\n<polygon fill=\"lightgrey\" stroke=\"black\" points=\"313,-707.5 212,-707.5 212,-688.5 313,-688.5 313,-707.5\"/>\n<text text-anchor=\"middle\" x=\"262.5\" y=\"-695.5\" font-family=\"monospace\" font-size=\"10.00\">AccumulateGrad</text>\n</g>\n<!-- 135187743887216&#45;&gt;135187743887072 -->\n<g id=\"edge13\" class=\"edge\">\n<title>135187743887216&#45;&gt;135187743887072</title>\n<path fill=\"none\" stroke=\"black\" d=\"M261.17,-688.37C259.91,-680.16 257.97,-667.54 256.35,-657.05\"/>\n<polygon fill=\"black\" stroke=\"black\" points=\"259.81,-656.52 254.83,-647.17 252.89,-657.58 259.81,-656.52\"/>\n</g>\n<!-- 135187857738000 -->\n<g id=\"node16\" class=\"node\">\n<title>135187857738000</title>\n<polygon fill=\"lightblue\" stroke=\"black\" points=\"289.5,-779 235.5,-779 235.5,-749 289.5,-749 289.5,-779\"/>\n<text text-anchor=\"middle\" x=\"262.5\" y=\"-767\" font-family=\"monospace\" font-size=\"10.00\">w</text>\n<text text-anchor=\"middle\" x=\"262.5\" y=\"-756\" font-family=\"monospace\" font-size=\"10.00\"> (1)</text>\n</g>\n<!-- 135187857738000&#45;&gt;135187743887216 -->\n<g id=\"edge14\" class=\"edge\">\n<title>135187857738000&#45;&gt;135187743887216</title>\n<path fill=\"none\" stroke=\"black\" d=\"M262.5,-748.8C262.5,-739.7 262.5,-727.79 262.5,-717.9\"/>\n<polygon fill=\"black\" stroke=\"black\" points=\"266,-717.84 262.5,-707.84 259,-717.84 266,-717.84\"/>\n</g>\n<!-- 135187743887264 -->\n<g id=\"node17\" class=\"node\">\n<title>135187743887264</title>\n<polygon fill=\"lightgrey\" stroke=\"black\" points=\"194,-707.5 93,-707.5 93,-688.5 194,-688.5 194,-707.5\"/>\n<text text-anchor=\"middle\" x=\"143.5\" y=\"-695.5\" font-family=\"monospace\" font-size=\"10.00\">AccumulateGrad</text>\n</g>\n<!-- 135187743887264&#45;&gt;135187743887072 -->\n<g id=\"edge15\" class=\"edge\">\n<title>135187743887264&#45;&gt;135187743887072</title>\n<path fill=\"none\" stroke=\"black\" d=\"M159.73,-688.37C177.77,-678.78 207.12,-663.17 228.18,-651.97\"/>\n<polygon fill=\"black\" stroke=\"black\" points=\"230.02,-654.95 237.2,-647.17 226.73,-648.77 230.02,-654.95\"/>\n</g>\n<!-- 135187857738240 -->\n<g id=\"node18\" class=\"node\">\n<title>135187857738240</title>\n<polygon fill=\"lightblue\" stroke=\"black\" points=\"170.5,-779 116.5,-779 116.5,-749 170.5,-749 170.5,-779\"/>\n<text text-anchor=\"middle\" x=\"143.5\" y=\"-767\" font-family=\"monospace\" font-size=\"10.00\">x</text>\n<text text-anchor=\"middle\" x=\"143.5\" y=\"-756\" font-family=\"monospace\" font-size=\"10.00\"> (1)</text>\n</g>\n<!-- 135187857738240&#45;&gt;135187743887264 -->\n<g id=\"edge16\" class=\"edge\">\n<title>135187857738240&#45;&gt;135187743887264</title>\n<path fill=\"none\" stroke=\"black\" d=\"M143.5,-748.8C143.5,-739.7 143.5,-727.79 143.5,-717.9\"/>\n<polygon fill=\"black\" stroke=\"black\" points=\"147,-717.84 143.5,-707.84 140,-717.84 147,-717.84\"/>\n</g>\n<!-- 135187743887120 -->\n<g id=\"node19\" class=\"node\">\n<title>135187743887120</title>\n<polygon fill=\"lightgrey\" stroke=\"black\" points=\"417,-647 316,-647 316,-628 417,-628 417,-647\"/>\n<text text-anchor=\"middle\" x=\"366.5\" y=\"-635\" font-family=\"monospace\" font-size=\"10.00\">AccumulateGrad</text>\n</g>\n<!-- 135187743887120&#45;&gt;135187743886976 -->\n<g id=\"edge17\" class=\"edge\">\n<title>135187743887120&#45;&gt;135187743886976</title>\n<path fill=\"none\" stroke=\"black\" d=\"M357.34,-627.98C349,-620.23 336.47,-608.58 326.32,-599.14\"/>\n<polygon fill=\"black\" stroke=\"black\" points=\"328.53,-596.42 318.82,-592.17 323.76,-601.54 328.53,-596.42\"/>\n</g>\n<!-- 135187857738640 -->\n<g id=\"node20\" class=\"node\">\n<title>135187857738640</title>\n<polygon fill=\"lightblue\" stroke=\"black\" points=\"393.5,-713 339.5,-713 339.5,-683 393.5,-683 393.5,-713\"/>\n<text text-anchor=\"middle\" x=\"366.5\" y=\"-701\" font-family=\"monospace\" font-size=\"10.00\">b</text>\n<text text-anchor=\"middle\" x=\"366.5\" y=\"-690\" font-family=\"monospace\" font-size=\"10.00\"> (1)</text>\n</g>\n<!-- 135187857738640&#45;&gt;135187743887120 -->\n<g id=\"edge18\" class=\"edge\">\n<title>135187857738640&#45;&gt;135187743887120</title>\n<path fill=\"none\" stroke=\"black\" d=\"M366.5,-682.84C366.5,-675.21 366.5,-665.7 366.5,-657.45\"/>\n<polygon fill=\"black\" stroke=\"black\" points=\"370,-657.27 366.5,-647.27 363,-657.27 370,-657.27\"/>\n</g>\n<!-- 135187743886304 -->\n<g id=\"node21\" class=\"node\">\n<title>135187743886304</title>\n<polygon fill=\"lightgrey\" stroke=\"black\" points=\"194,-141 105,-141 105,-122 194,-122 194,-141\"/>\n<text text-anchor=\"middle\" x=\"149.5\" y=\"-129\" font-family=\"monospace\" font-size=\"10.00\">MulBackward0</text>\n</g>\n<!-- 135187743886304&#45;&gt;135187743886160 -->\n<g id=\"edge19\" class=\"edge\">\n<title>135187743886304&#45;&gt;135187743886160</title>\n<path fill=\"none\" stroke=\"black\" d=\"M158.25,-121.75C165.97,-114.03 177.4,-102.6 186.72,-93.28\"/>\n<polygon fill=\"black\" stroke=\"black\" points=\"189.31,-95.64 193.91,-86.09 184.36,-90.69 189.31,-95.64\"/>\n</g>\n<!-- 135187743886544&#45;&gt;135187743886304 -->\n<g id=\"edge20\" class=\"edge\">\n<title>135187743886544&#45;&gt;135187743886304</title>\n<path fill=\"none\" stroke=\"black\" d=\"M63.89,-176.98C80.07,-168.57 105.07,-155.59 123.88,-145.81\"/>\n<polygon fill=\"black\" stroke=\"black\" points=\"125.55,-148.89 132.81,-141.17 122.33,-142.68 125.55,-148.89\"/>\n</g>\n<!-- 135187743886640 -->\n<g id=\"node23\" class=\"node\">\n<title>135187743886640</title>\n<polygon fill=\"lightgrey\" stroke=\"black\" points=\"309,-196 220,-196 220,-177 309,-177 309,-196\"/>\n<text text-anchor=\"middle\" x=\"264.5\" y=\"-184\" font-family=\"monospace\" font-size=\"10.00\">LogBackward0</text>\n</g>\n<!-- 135187743886640&#45;&gt;135187743886304 -->\n<g id=\"edge22\" class=\"edge\">\n<title>135187743886640&#45;&gt;135187743886304</title>\n<path fill=\"none\" stroke=\"black\" d=\"M246.02,-176.98C227.52,-168.46 198.82,-155.23 177.52,-145.41\"/>\n<polygon fill=\"black\" stroke=\"black\" points=\"178.86,-142.18 168.31,-141.17 175.93,-148.53 178.86,-142.18\"/>\n</g>\n<!-- 135187743886928&#45;&gt;135187743886640 -->\n<g id=\"edge23\" class=\"edge\">\n<title>135187743886928&#45;&gt;135187743886640</title>\n<path fill=\"none\" stroke=\"black\" d=\"M256.15,-231.75C257.46,-224.8 259.34,-214.85 260.98,-206.13\"/>\n<polygon fill=\"black\" stroke=\"black\" points=\"264.46,-206.56 262.88,-196.09 257.59,-205.27 264.46,-206.56\"/>\n</g>\n</g>\n</svg>\n",
            "text/plain": [
              "<graphviz.graphs.Digraph at 0x7af3d97e96d0>"
            ]
          },
          "metadata": {},
          "execution_count": 4
        }
      ],
      "source": [
        "from torchviz import make_dot, make_dot_from_trace\n",
        "make_dot(l, params={'x':x, 'w':w, 'b':b, 'y':y})"
      ]
    },
    {
      "cell_type": "markdown",
      "metadata": {
        "id": "_V7i4jw0YI7J"
      },
      "source": [
        "quando effettuiamo il backward pass vengono calcolati i gradienti di l ripsetto a tutti gli elementi collegati ad l"
      ]
    },
    {
      "cell_type": "code",
      "execution_count": 5,
      "metadata": {
        "id": "zO9m9i8MLD-9"
      },
      "outputs": [],
      "source": [
        "#backward pass\n",
        "l.backward()"
      ]
    },
    {
      "cell_type": "markdown",
      "metadata": {
        "id": "SuoBp7-nYI7J"
      },
      "source": [
        "strumento di debug per vedere se il gradiente è diverso da zero per esempio"
      ]
    },
    {
      "cell_type": "code",
      "execution_count": 6,
      "metadata": {
        "colab": {
          "base_uri": "https://localhost:8080/"
        },
        "id": "wQ0PEoLdI3bR",
        "outputId": "660e3d4e-9125-408c-e51d-572c5d965caf"
      },
      "outputs": [
        {
          "output_type": "stream",
          "name": "stdout",
          "text": [
            "Backward\n",
            "dL/dx = tensor([0.3655])\n",
            "dL/db = tensor([-1.4621])\n",
            "dL/dw = tensor([-0.7311])\n"
          ]
        }
      ],
      "source": [
        "print(\"Backward\")\n",
        "print(f'dL/dx = {x.grad}')\n",
        "print(f'dL/db = {w.grad}')\n",
        "print(f'dL/dw = {b.grad}')"
      ]
    }
  ],
  "metadata": {
    "colab": {
      "provenance": [],
      "include_colab_link": true
    },
    "kernelspec": {
      "display_name": "Python 3",
      "name": "python3"
    },
    "language_info": {
      "name": "python"
    }
  },
  "nbformat": 4,
  "nbformat_minor": 0
}